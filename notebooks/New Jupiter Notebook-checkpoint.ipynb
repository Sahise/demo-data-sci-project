{
 "cells": [
  {
   "attachments": {},
   "cell_type": "markdown",
   "id": "027207e9",
   "metadata": {},
   "source": [
    "# Experimentation of the Code i write in src (source code) into Jupyter\n",
    "\n",
    "I will be trying random functions here"
   ]
  },
  {
   "cell_type": "code",
   "execution_count": 3,
   "id": "79a4615a",
   "metadata": {},
   "outputs": [
    {
     "name": "stdout",
     "output_type": "stream",
     "text": [
      "(153.86, 43.96)\n"
     ]
    }
   ],
   "source": [
    "# Calculating both the Area and the Circonference of a Circle\n",
    "\n",
    "def Circle(r):\n",
    "    pi = 3.14\n",
    "    d = r/2\n",
    "    circle_area = pi * r**2\n",
    "    circle_circ = 2*pi * r\n",
    "    return circle_area, circle_circ\n",
    "\n",
    "print (Circle(7))"
   ]
  },
  {
   "cell_type": "code",
   "execution_count": 12,
   "id": "f603a668",
   "metadata": {},
   "outputs": [
    {
     "name": "stdout",
     "output_type": "stream",
     "text": [
      "10\n"
     ]
    }
   ],
   "source": [
    "# Calculatin c by using pythagoras theorem \n",
    "\n",
    "def Triangle(a, b):\n",
    "    a = a**2\n",
    "    b = b**2\n",
    "    c = a + b\n",
    "    c = pow(c, 1/2)\n",
    "    return c\n",
    "\n",
    "print (int(Triangle(6, 8)))\n"
   ]
  }
 ],
 "metadata": {
  "kernelspec": {
   "display_name": "Python 3 (ipykernel)",
   "language": "python",
   "name": "python3"
  },
  "language_info": {
   "codemirror_mode": {
    "name": "ipython",
    "version": 3
   },
   "file_extension": ".py",
   "mimetype": "text/x-python",
   "name": "python",
   "nbconvert_exporter": "python",
   "pygments_lexer": "ipython3",
   "version": "3.11.0"
  }
 },
 "nbformat": 4,
 "nbformat_minor": 5
}
